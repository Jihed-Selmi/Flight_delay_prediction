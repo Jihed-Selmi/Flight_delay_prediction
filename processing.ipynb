{
 "cells": [
  {
   "cell_type": "markdown",
   "metadata": {},
   "source": [
    "# Data Preprocessing Notebook"
   ]
  },
  {
   "cell_type": "markdown",
   "metadata": {},
   "source": [
    "## Introduction\n",
    "This Jupyter notebook is dedicated to the preprocessing of data collected from three different sources: flights, weather, and reviews. The purpose of this notebook is to clean and prepare the data for further analysis or machine learning tasks. Preprocessing includes handling missing values, identifying and dealing with outliers, and merging the datasets into a single cohesive structure.\n",
    "\n",
    "---"
   ]
  },
  {
   "cell_type": "markdown",
   "metadata": {},
   "source": [
    "## Objective\n",
    "The goal of this preprocessing step is to ensure that the datasets are:\n",
    "- **Clean**: Free from inaccuracies and inconsistencies.\n",
    "- **Complete**: Missing values are addressed appropriately.\n",
    "- **Conformant**: Data is standardized to expected formats.\n",
    "- **Consolidated**: Relevant data from all three sources are combined logically.\n",
    "\n",
    "---"
   ]
  },
  {
   "cell_type": "markdown",
   "metadata": {},
   "source": [
    "## Datasets\n",
    "The datasets being processed are:\n",
    "1. **Flights**: Contains information about flight schedules, delays, and other related attributes.\n",
    "2. **Weather**: Includes weather conditions at different airport locations.\n",
    "3. **Reviews**: Comprises customer reviews and ratings for the flights.\n",
    "\n",
    "---"
   ]
  },
  {
   "cell_type": "markdown",
   "metadata": {},
   "source": [
    "## Tools and Libraries\n",
    "- `Spark`: For distributed data processing.\n",
    "- `PySpark`: Python API for Spark.\n",
    "- `Pandas`: For data manipulation within Spark jobs.\n",
    "- `Matplotlib`/`Seaborn`: For visualizations (if needed, considering the size of data).\n",
    "- `MLlib`: Spark’s machine learning library (if preprocessing involves feature selection or dimensionality reduction).\n",
    "\n"
   ]
  },
  {
   "cell_type": "code",
   "execution_count": 472,
   "metadata": {},
   "outputs": [],
   "source": [
    "from pyspark.sql import SparkSession\n",
    "from pyspark.sql.types import StructType, StructField, StringType, TimestampType\n",
    "from pyspark.sql.functions import col, to_timestamp, split, lit, concat, to_date, hour, minute, second, concat_ws, when, lower"
   ]
  },
  {
   "cell_type": "markdown",
   "metadata": {},
   "source": [
    "---"
   ]
  },
  {
   "cell_type": "code",
   "execution_count": 473,
   "metadata": {},
   "outputs": [],
   "source": [
    "spark = SparkSession.builder.appName(\"FlightsDataProcessing\")\\\n",
    "    .config(\"spark.sql.legacy.timeParserPolicy\", \"LEGACY\")\\\n",
    "    .getOrCreate()\n"
   ]
  },
  {
   "cell_type": "code",
   "execution_count": 474,
   "metadata": {},
   "outputs": [],
   "source": [
    "schema = StructType([\n",
    "    StructField(\"host\", StringType(), True),\n",
    "    StructField(\"time\", StringType(), True),\n",
    "    StructField(\"flight_code\", StringType(), True),\n",
    "    StructField(\"destination\", StringType(), True),\n",
    "    StructField(\"airline\", StringType(), True),\n",
    "    StructField(\"aircraft\", StringType(), True),\n",
    "    StructField(\"color\", StringType(), True),\n",
    "    StructField(\"status\", StringType(), True),\n",
    "    StructField(\"date\", StringType(), True),\n",
    "    StructField(\"type\", StringType(), True)\n",
    "])\n",
    "flights_df = spark.read.csv('./data/history/flights.csv', schema=schema, header=False)\n",
    "flights_df = flights_df.drop(\"color\")\n"
   ]
  },
  {
   "cell_type": "code",
   "execution_count": 475,
   "metadata": {},
   "outputs": [
    {
     "name": "stdout",
     "output_type": "stream",
     "text": [
      "+----+-------+-----------+---------------+-----------------+-------------+----------------+-------------+----------+\n",
      "|host|time   |flight_code|destination    |airline          |aircraft     |status          |date         |type      |\n",
      "+----+-------+-----------+---------------+-----------------+-------------+----------------+-------------+----------+\n",
      "|tia |3:05 AM|PC282      |Istanbul (SAW) |Pegasus          |B738 (TC-CRE)|Departed 4:05 AM|Sunday Mar 17|departures|\n",
      "|tia |1:45 PM|NULL       |Milan (MXP)    |Wizz Air         |A21N (9H-WDP)|Departed 1:52 PM|Sunday Mar 17|departures|\n",
      "|tia |4:55 AM|OS850      |Vienna (VIE)   |Austrian Airlines|A320 (OE-LBN)|Departed 4:49 AM|Sunday Mar 17|departures|\n",
      "|tia |6:00 AM|W43841     |Dortmund (DTM) |Wizz Air         |A21N (HA-LZK)|Departed 7:01 AM|Sunday Mar 17|departures|\n",
      "|tia |6:00 AM|W46625     |Brussels (CRL) |Wizz Air         |A321 (HA-LXA)|Departed 6:14 AM|Sunday Mar 17|departures|\n",
      "|tia |6:10 AM|W43845     |Milan (BGY)    |Wizz Air         |A321 (HA-LXR)|Departed 6:17 AM|Sunday Mar 17|departures|\n",
      "|tia |6:10 AM|W43857     |Rome (FCO)     |Wizz Air         |A321 (HA-LXK)|Departed 6:25 AM|Sunday Mar 17|departures|\n",
      "|tia |6:20 AM|W46607     |Milan (MXP)    |Wizz Air         |A321 (HA-LXE)|Departed 6:28 AM|Sunday Mar 17|departures|\n",
      "|tia |6:25 AM|LH1455     |Frankfurt (FRA)|Lufthansa        |A320 (D-AIQW)|Departed 6:30 AM|Sunday Mar 17|departures|\n",
      "|tia |6:50 AM|W43851     |Venice (TSF)   |Wizz Air         |A321 (HA-LXY)|Departed 6:51 AM|Sunday Mar 17|departures|\n",
      "+----+-------+-----------+---------------+-----------------+-------------+----------------+-------------+----------+\n",
      "only showing top 10 rows\n",
      "\n"
     ]
    }
   ],
   "source": [
    "flights_df.show(10, truncate=False)"
   ]
  },
  {
   "cell_type": "code",
   "execution_count": 476,
   "metadata": {},
   "outputs": [],
   "source": [
    "flights_df = flights_df.withColumn(\"date\", concat(col(\"date\"), lit(\" 2024\")))"
   ]
  },
  {
   "cell_type": "code",
   "execution_count": 477,
   "metadata": {},
   "outputs": [],
   "source": [
    "flights_df = flights_df.withColumn(\"date\", to_date(\"date\", \"EEEE MMM dd yyyy\"))"
   ]
  },
  {
   "cell_type": "code",
   "execution_count": 478,
   "metadata": {},
   "outputs": [],
   "source": [
    "flights_df = flights_df.withColumn(\"expected_time\", to_timestamp(col(\"time\"), \"hh:mm a\"))"
   ]
  },
  {
   "cell_type": "code",
   "execution_count": 479,
   "metadata": {},
   "outputs": [],
   "source": [
    "from pyspark.sql.functions import col, to_timestamp, date_format, unix_timestamp\n",
    "\n",
    "# Step 1: Extract the time component from the original timestamp\n",
    "time_component = date_format(col(\"expected_time\"), \"HH:mm:ss\")\n",
    "\n",
    "# Step 2: Concatenate the correct date with the extracted time component and convert back to timestamp\n",
    "# Assuming `date_column` is of type date. If it's a string, ensure it's in 'yyyy-MM-dd' format.\n",
    "corrected_timestamp = to_timestamp(\n",
    "    concat_ws(\" \", date_format(col(\"date\"), \"yyyy-MM-dd\"), time_component),\n",
    "    \"yyyy-MM-dd HH:mm:ss\"\n",
    ")\n",
    "\n",
    "# Apply the transformation\n",
    "flights_df = flights_df.withColumn(\"expected_time\", corrected_timestamp)\n",
    "flights_df = flights_df.drop(\"time\")"
   ]
  },
  {
   "cell_type": "code",
   "execution_count": 480,
   "metadata": {},
   "outputs": [],
   "source": [
    "flights_df = flights_df.withColumn(\"dest_city\", lower(split(col(\"destination\"), \" \\(\")[0])) \\\n",
    "                       .withColumn(\"destination\", split(col(\"destination\"), \" \\(\")[1].substr(0, 3))\n"
   ]
  },
  {
   "cell_type": "code",
   "execution_count": 481,
   "metadata": {},
   "outputs": [],
   "source": [
    "flights_df = flights_df.withColumn(\"aircraft\", split(col(\"aircraft\"), \" \\(\")[0])"
   ]
  },
  {
   "cell_type": "code",
   "execution_count": 482,
   "metadata": {},
   "outputs": [],
   "source": [
    "from pyspark.sql.functions import col, split, expr\n",
    "\n",
    "# Assuming your DataFrame is named flights_df and the column in question is named 'status'\n",
    "\n",
    "# Split the 'status' column into an array of words\n",
    "split_col = split(col(\"status\"), \" \")\n",
    "\n",
    "flights_df = flights_df.withColumn(\"actual_time\", expr(\"substring(status, length(split(status, ' ')[0]) + 2)\"))\n",
    "\n",
    "# Extract the first word for the new 'status' column\n",
    "flights_df = flights_df.withColumn(\"status\", split_col.getItem(0))\n",
    "\n",
    "# Concatenate the remaining words for the 'actual_time' column\n",
    "# This approach handles arbitrary lengths of the remaining string\n",
    "\n"
   ]
  },
  {
   "cell_type": "code",
   "execution_count": 483,
   "metadata": {},
   "outputs": [],
   "source": [
    "# Filter rows with status column containing Departed or Arrived\n",
    "flights_df = flights_df.filter(\n",
    "    col(\"status\").like(\"%Departed%\") | \n",
    "    col(\"status\").like(\"%Arrived%\")\n",
    ")"
   ]
  },
  {
   "cell_type": "code",
   "execution_count": 484,
   "metadata": {},
   "outputs": [],
   "source": [
    "flights_df = flights_df.withColumn(\"actual_time\", to_timestamp(col(\"actual_time\"), \"hh:mm a\"))"
   ]
  },
  {
   "cell_type": "code",
   "execution_count": 485,
   "metadata": {},
   "outputs": [],
   "source": [
    "\n",
    "# Step 1: Extract the time component from the original timestamp\n",
    "time_component = date_format(col(\"actual_time\"), \"HH:mm:ss\")\n",
    "\n",
    "# Step 2: Concatenate the correct date with the extracted time component and convert back to timestamp\n",
    "# Assuming `date_column` is of type date. If it's a string, ensure it's in 'yyyy-MM-dd' format.\n",
    "corrected_timestamp = to_timestamp(\n",
    "    concat_ws(\" \", date_format(col(\"date\"), \"yyyy-MM-dd\"), time_component),\n",
    "    \"yyyy-MM-dd HH:mm:ss\"\n",
    ")\n",
    "\n",
    "# Apply the transformation\n",
    "flights_df = flights_df.withColumn(\"actual_time\", corrected_timestamp)"
   ]
  },
  {
   "cell_type": "code",
   "execution_count": 486,
   "metadata": {},
   "outputs": [],
   "source": [
    "flights_df = flights_df.drop(\"date\")"
   ]
  },
  {
   "cell_type": "code",
   "execution_count": 487,
   "metadata": {},
   "outputs": [
    {
     "name": "stdout",
     "output_type": "stream",
     "text": [
      "+----+-----------+-----------+--------------------------------+--------+--------+----------+-------------------+---------+-------------------+\n",
      "|host|flight_code|destination|airline                         |aircraft|status  |type      |expected_time      |dest_city|actual_time        |\n",
      "+----+-----------+-----------+--------------------------------+--------+--------+----------+-------------------+---------+-------------------+\n",
      "|tia |PC282      |SAW        |Pegasus                         |B738    |Departed|departures|2024-03-17 03:05:00|istanbul |2024-03-17 04:05:00|\n",
      "|tia |NULL       |MXP        |Wizz Air                        |A21N    |Departed|departures|2024-03-17 13:45:00|milan    |2024-03-17 13:52:00|\n",
      "|tia |OS850      |VIE        |Austrian Airlines               |A320    |Departed|departures|2024-03-17 04:55:00|vienna   |2024-03-17 04:49:00|\n",
      "|tia |W43841     |DTM        |Wizz Air                        |A21N    |Departed|departures|2024-03-17 06:00:00|dortmund |2024-03-17 07:01:00|\n",
      "|tia |W46625     |CRL        |Wizz Air                        |A321    |Departed|departures|2024-03-17 06:00:00|brussels |2024-03-17 06:14:00|\n",
      "|tia |W43845     |BGY        |Wizz Air                        |A321    |Departed|departures|2024-03-17 06:10:00|milan    |2024-03-17 06:17:00|\n",
      "|tia |W43857     |FCO        |Wizz Air                        |A321    |Departed|departures|2024-03-17 06:10:00|rome     |2024-03-17 06:25:00|\n",
      "|tia |W46607     |MXP        |Wizz Air                        |A321    |Departed|departures|2024-03-17 06:20:00|milan    |2024-03-17 06:28:00|\n",
      "|tia |LH1455     |FRA        |Lufthansa                       |A320    |Departed|departures|2024-03-17 06:25:00|frankfurt|2024-03-17 06:30:00|\n",
      "|tia |W43851     |TSF        |Wizz Air                        |A321    |Departed|departures|2024-03-17 06:50:00|venice   |2024-03-17 06:51:00|\n",
      "|tia |W43853     |PSA        |Wizz Air                        |A321    |Departed|departures|2024-03-17 06:50:00|pisa     |2024-03-17 06:58:00|\n",
      "|tia |W46603     |TRN        |Wizz Air                        |A320    |Departed|departures|2024-03-17 06:55:00|turin    |2024-03-17 06:54:00|\n",
      "|tia |W46627     |EIN        |Wizz Air                        |A21N    |Departed|departures|2024-03-17 06:55:00|eindhoven|2024-03-17 07:04:00|\n",
      "|tia |W43861     |NYO        |Wizz Air                        |A320    |Departed|departures|2024-03-17 07:10:00|stockholm|2024-03-17 07:14:00|\n",
      "|tia |ZB1001     |IST        |Air Albania                     |A320    |Departed|departures|2024-03-17 07:25:00|istanbul |2024-03-17 16:18:00|\n",
      "|tia |W46605     |CTA        |Wizz Air                        |A21N    |Departed|departures|2024-03-17 08:20:00|catania  |2024-03-17 08:27:00|\n",
      "|tia |FR8399     |BLQ        |Ryanair                         |B738    |Departed|departures|2024-03-17 09:10:00|bologna  |2024-03-17 09:12:00|\n",
      "|tia |W63879     |WAW        |Wizz Air                        |A321    |Departed|departures|2024-03-17 09:20:00|warsaw   |2024-03-17 09:23:00|\n",
      "|tia |LX1443     |ZRH        |Swiss                           |BCS1    |Departed|departures|2024-03-17 09:40:00|zurich   |2024-03-17 09:52:00|\n",
      "|tia |FR8299     |CRL        |Ryanair                         |B738    |Departed|departures|2024-03-17 09:45:00|brussels |2024-03-17 09:43:00|\n",
      "|tia |FR8356     |BGY        |Ryanair                         |B738    |Departed|departures|2024-03-17 10:10:00|milan    |2024-03-17 10:51:00|\n",
      "|tia |W46629     |MXP        |Wizz Air                        |A321    |Departed|departures|2024-03-17 10:30:00|milan    |2024-03-17 10:54:00|\n",
      "|tia |RK8289     |STN        |Ryanair                         |B738    |Departed|departures|2024-03-17 11:05:00|london   |2024-03-17 16:45:00|\n",
      "|tia |W43855     |AOI        |Wizz Air                        |A321    |Departed|departures|2024-03-17 11:15:00|ancona   |2024-03-17 11:20:00|\n",
      "|tia |W46691     |FCO        |Wizz Air                        |A321    |Departed|departures|2024-03-17 11:15:00|rome     |2024-03-17 11:17:00|\n",
      "|tia |W46679     |PSA        |Wizz Air                        |A321    |Departed|departures|2024-03-17 11:30:00|pisa     |2024-03-17 11:54:00|\n",
      "|tia |W46601     |BRI        |Wizz Air                        |A321    |Departed|departures|2024-03-17 11:35:00|bari     |2024-03-17 11:48:00|\n",
      "|tia |FR8333     |NRN        |Ryanair                         |B738    |Departed|departures|2024-03-17 12:00:00|weeze    |2024-03-17 12:27:00|\n",
      "|tia |FR8350     |BGY        |Ryanair                         |B738    |Departed|departures|2024-03-17 12:10:00|milan    |2024-03-17 12:22:00|\n",
      "|tia |W43885     |BGY        |Wizz Air                        |A320    |Departed|departures|2024-03-17 12:10:00|milan    |2024-03-17 12:36:00|\n",
      "|tia |FZ746      |DXB        |flydubai                        |B38M    |Departed|departures|2024-03-17 12:25:00|dubai    |2024-03-17 12:46:00|\n",
      "|tia |W94466     |LTN        |Wizz Air                        |A21N    |Departed|departures|2024-03-17 12:25:00|london   |2024-03-17 12:38:00|\n",
      "|tia |ZB2003     |MXP        |Air Albania                     |A320    |Departed|departures|2024-03-17 12:50:00|milan    |2024-03-17 21:08:00|\n",
      "|tia |LO598      |WAW        |LOT (Warmia Mazury Livery)      |E195    |Departed|departures|2024-03-17 12:55:00|warsaw   |2024-03-17 13:09:00|\n",
      "|tia |W46613     |HAM        |Wizz Air                        |A21N    |Departed|departures|2024-03-17 13:10:00|hamburg  |2024-03-17 13:24:00|\n",
      "|tia |W46611     |BER        |Wizz Air                        |A321    |Departed|departures|2024-03-17 14:00:00|berlin   |2024-03-17 14:09:00|\n",
      "|tia |W43206     |OTP        |Wizz Air                        |A321    |Departed|departures|2024-03-17 14:10:00|bucharest|2024-03-17 14:06:00|\n",
      "|tia |W46635     |BSL        |Wizz Air                        |A321    |Departed|departures|2024-03-17 14:10:00|basel    |2024-03-17 15:15:00|\n",
      "|tia |LH1425     |FRA        |Lufthansa                       |A320    |Departed|departures|2024-03-17 14:20:00|frankfurt|2024-03-17 14:46:00|\n",
      "|tia |W44813     |ATH        |Wizz Air                        |A320    |Departed|departures|2024-03-17 14:45:00|athens   |2024-03-17 14:49:00|\n",
      "|tia |JU213      |BEG        |AirSERBIA                       |AT76    |Departed|departures|2024-03-17 15:00:00|belgrade |2024-03-17 15:06:00|\n",
      "|tia |OS848      |VIE        |Austrian Airlines               |A320    |Departed|departures|2024-03-17 15:00:00|vienna   |2024-03-17 15:01:00|\n",
      "|tia |W43869     |BGY        |Wizz Air                        |A321    |Departed|departures|2024-03-17 15:15:00|milan    |2024-03-17 15:24:00|\n",
      "|tia |FR8422     |BGY        |Ryanair                         |B738    |Departed|departures|2024-03-17 15:40:00|milan    |2024-03-17 16:13:00|\n",
      "|tia |W43843     |FMM        |Wizz Air                        |A321    |Departed|departures|2024-03-17 15:40:00|memmingen|2024-03-17 16:26:00|\n",
      "|tia |W46649     |PSA        |Wizz Air                        |A321    |Departed|departures|2024-03-17 16:05:00|pisa     |2024-03-17 16:03:00|\n",
      "|tia |W44809     |TSF        |Wizz Air                        |A321    |Departed|departures|2024-03-17 16:15:00|venice   |2024-03-17 16:21:00|\n",
      "|tia |AZ585      |FCO        |ITA Airways                     |A20N    |Departed|departures|2024-03-17 16:55:00|rome     |2024-03-17 16:57:00|\n",
      "|tia |W46633     |BVA        |Wizz Air                        |A321    |Departed|departures|2024-03-17 17:00:00|paris    |2024-03-17 17:04:00|\n",
      "|tia |W43865     |BCN        |Wizz Air                        |A320    |Departed|departures|2024-03-17 18:00:00|barcelona|2024-03-17 17:57:00|\n",
      "|tia |ZB1003     |IST        |Air Albania                     |A320    |Departed|departures|2024-03-17 18:10:00|istanbul |2024-03-17 02:27:00|\n",
      "|tia |A3973      |ATH        |Aegean Airlines                 |A320    |Departed|departures|2024-03-17 18:30:00|athens   |2024-03-17 18:27:00|\n",
      "|tia |FR8420     |CIA        |Ryanair                         |B738    |Departed|departures|2024-03-17 18:55:00|rome     |2024-03-17 18:58:00|\n",
      "|tia |W43877     |BLQ        |Wizz Air                        |A320    |Departed|departures|2024-03-17 18:55:00|bologna  |2024-03-17 18:51:00|\n",
      "|tia |W46637     |GOA        |Wizz Air                        |A321    |Departed|departures|2024-03-17 19:45:00|genoa    |2024-03-17 21:03:00|\n",
      "|tia |W46661     |TRN        |Wizz Air                        |A21N    |Departed|departures|2024-03-17 19:55:00|turin    |2024-03-17 20:10:00|\n",
      "|tia |W43887     |FCO        |Wizz Air                        |A321    |Departed|departures|2024-03-17 20:00:00|rome     |2024-03-17 20:06:00|\n",
      "|tia |FR8403     |KRK        |Ryanair                         |B738    |Departed|departures|2024-03-17 20:05:00|krakow   |2024-03-17 20:08:00|\n",
      "|tia |FR8400     |TSF        |Ryanair                         |B738    |Departed|departures|2024-03-17 20:10:00|venice   |2024-03-17 20:17:00|\n",
      "|tia |W46609     |MXP        |Wizz Air                        |A321    |Departed|departures|2024-03-17 20:10:00|milan    |2024-03-17 20:13:00|\n",
      "|tia |FR8416     |OTP        |Ryanair                         |B738    |Departed|departures|2024-03-17 20:20:00|bucharest|2024-03-17 20:20:00|\n",
      "|tia |RK8291     |STN        |Ryanair                         |B738    |Departed|departures|2024-03-17 20:40:00|london   |2024-03-17 20:42:00|\n",
      "|tia |W43849     |VRN        |Wizz Air                        |A321    |Departed|departures|2024-03-17 20:40:00|verona   |2024-03-17 21:02:00|\n",
      "|tia |W43847     |BLQ        |Wizz Air                        |A321    |Departed|departures|2024-03-17 20:45:00|bologna  |2024-03-17 20:54:00|\n",
      "|tia |W94474     |LTN        |Wizz Air                        |A21N    |Departed|departures|2024-03-17 20:50:00|london   |2024-03-17 21:12:00|\n",
      "|tia |W46647     |BRI        |Wizz Air                        |A321    |Departed|departures|2024-03-17 20:55:00|bari     |2024-03-17 21:15:00|\n",
      "|tia |W62234     |BUD        |Wizz Air                        |A21N    |Departed|departures|2024-03-17 21:35:00|budapest |2024-03-17 22:09:00|\n",
      "|tia |FR8391     |PSA        |Ryanair                         |B738    |Departed|departures|2024-03-17 21:50:00|pisa     |2024-03-17 22:02:00|\n",
      "|tia |FR8370     |CTA        |Ryanair                         |B738    |Departed|departures|2024-03-17 22:05:00|catania  |2024-03-17 21:54:00|\n",
      "|tia |W94472     |LTN        |Wizz Air                        |A21N    |Departed|departures|2024-03-17 23:05:00|london   |2024-03-17 23:13:00|\n",
      "|tia |PC282      |SAW        |Pegasus                         |A21N    |Departed|departures|2024-03-18 01:55:00|istanbul |2024-03-18 04:11:00|\n",
      "|tia |JU217      |BEG        |AirSERBIA                       |AT76    |Departed|departures|2024-03-18 04:00:00|belgrade |2024-03-18 04:42:00|\n",
      "|tia |OS850      |VIE        |Austrian Airlines (Retro Livery)|A320    |Departed|departures|2024-03-18 04:55:00|vienna   |2024-03-18 04:50:00|\n",
      "|tia |W43841     |DTM        |Wizz Air                        |A21N    |Departed|departures|2024-03-18 06:00:00|dortmund |2024-03-18 06:10:00|\n",
      "|tia |W46611     |BER        |Wizz Air                        |A321    |Departed|departures|2024-03-18 06:00:00|berlin   |2024-03-18 06:07:00|\n",
      "|tia |W43845     |BGY        |Wizz Air                        |A321    |Departed|departures|2024-03-18 06:10:00|milan    |2024-03-18 06:15:00|\n",
      "|tia |W46607     |MXP        |Wizz Air                        |A321    |Departed|departures|2024-03-18 06:20:00|milan    |2024-03-18 06:24:00|\n",
      "|tia |LH1455     |FRA        |Lufthansa                       |A320    |Departed|departures|2024-03-18 06:25:00|frankfurt|2024-03-18 06:34:00|\n",
      "|tia |W46603     |TRN        |Wizz Air                        |A321    |Departed|departures|2024-03-18 06:25:00|turin    |2024-03-18 06:30:00|\n",
      "|tia |W43851     |TSF        |Wizz Air                        |A321    |Departed|departures|2024-03-18 06:50:00|venice   |2024-03-18 06:49:00|\n",
      "|tia |W46625     |CRL        |Wizz Air                        |A321    |Departed|departures|2024-03-18 06:50:00|brussels |2024-03-18 07:05:00|\n",
      "|tia |W43857     |FCO        |Wizz Air                        |A321    |Departed|departures|2024-03-18 06:55:00|rome     |2024-03-18 06:58:00|\n",
      "|tia |W46627     |EIN        |Wizz Air                        |A320    |Departed|departures|2024-03-18 06:55:00|eindhoven|2024-03-18 07:08:00|\n",
      "|tia |W43843     |FMM        |Wizz Air                        |A320    |Departed|departures|2024-03-18 07:10:00|memmingen|2024-03-18 07:20:00|\n",
      "|tia |ZB1001     |IST        |Air Albania                     |A320    |Departed|departures|2024-03-18 07:25:00|istanbul |2024-03-18 07:42:00|\n",
      "|tia |FR8350     |BGY        |Ryanair                         |B38M    |Departed|departures|2024-03-18 08:25:00|milan    |2024-03-18 08:31:00|\n",
      "|tia |FR8400     |TSF        |Ryanair                         |B738    |Departed|departures|2024-03-18 09:00:00|venice   |2024-03-18 09:03:00|\n",
      "|tia |TB2952     |BRU        |TUI                             |E295    |Departed|departures|2024-03-18 09:25:00|brussels |2024-03-18 09:32:00|\n",
      "|tia |A3971      |ATH        |Aegean Airlines                 |A20N    |Departed|departures|2024-03-18 09:50:00|athens   |2024-03-18 09:55:00|\n",
      "|tia |FR8299     |CRL        |Ryanair                         |B738    |Departed|departures|2024-03-18 10:15:00|brussels |2024-03-18 10:32:00|\n",
      "|tia |RK8289     |STN        |Ryanair                         |B738    |Departed|departures|2024-03-18 10:35:00|london   |2024-03-18 10:36:00|\n",
      "|tia |W43853     |PSA        |Wizz Air                        |A321    |Departed|departures|2024-03-18 11:15:00|pisa     |2024-03-18 11:20:00|\n",
      "|tia |W43877     |BLQ        |Wizz Air                        |A321    |Departed|departures|2024-03-18 11:15:00|bologna  |2024-03-18 11:22:00|\n",
      "|tia |W43885     |BGY        |Wizz Air                        |A321    |Departed|departures|2024-03-18 11:15:00|milan    |2024-03-18 11:25:00|\n",
      "|tia |MDF9033    |ATH        |Swiftair                        |E120    |Departed|departures|2024-03-18 11:20:00|athens   |2024-03-18 11:43:00|\n",
      "|tia |W46601     |BRI        |Wizz Air                        |A321    |Departed|departures|2024-03-18 11:35:00|bari     |2024-03-18 11:40:00|\n",
      "|tia |W44809     |TSF        |Wizz Air                        |A321    |Departed|departures|2024-03-18 11:50:00|venice   |2024-03-18 12:00:00|\n",
      "|tia |W46631     |PRG        |Wizz Air                        |A321    |Departed|departures|2024-03-18 12:10:00|prague   |2024-03-18 12:13:00|\n",
      "|tia |FR8320     |CIA        |Ryanair                         |B738    |Departed|departures|2024-03-18 12:15:00|rome     |2024-03-18 12:28:00|\n",
      "|tia |W45100     |KRK        |Wizz Air                        |A320    |Departed|departures|2024-03-18 12:25:00|krakow   |2024-03-18 12:47:00|\n",
      "+----+-----------+-----------+--------------------------------+--------+--------+----------+-------------------+---------+-------------------+\n",
      "only showing top 100 rows\n",
      "\n"
     ]
    }
   ],
   "source": [
    "flights_df.show(100, truncate=False)"
   ]
  },
  {
   "cell_type": "code",
   "execution_count": null,
   "metadata": {},
   "outputs": [],
   "source": []
  },
  {
   "cell_type": "code",
   "execution_count": null,
   "metadata": {},
   "outputs": [],
   "source": []
  },
  {
   "cell_type": "markdown",
   "metadata": {},
   "source": [
    "\n",
    "\n",
    "\n",
    "\n",
    "\n",
    "\n",
    "\n",
    "\n",
    "## Preprocessing Steps\n",
    "The preprocessing will be conducted in the following order:\n",
    "1. **Initial Exploration**: Quick overview of the datasets to understand the structure and content.\n",
    "2. **Data Cleaning**:\n",
    "    - Removing duplicates.\n",
    "    - Fixing structural errors (e.g., mislabeled classes, wrong data types).\n",
    "3. **Handling Missing Values**:\n",
    "    - Identifying missing values.\n",
    "    - Deciding on a strategy to handle missing values (e.g., imputation, removal).\n",
    "4. **Outlier Detection**:\n",
    "    - Statistical methods to detect outliers.\n",
    "    - Deciding on a strategy to handle outliers (e.g., trimming, capping, or correcting).\n",
    "5. **Data Integration**:\n",
    "    - Aligning datasets by common attributes.\n",
    "    - Merging datasets into a unified table.\n",
    "6. **Data Transformation**:\n",
    "    - Normalization or scaling.\n",
    "    - Encoding categorical variables.\n",
    "7. **Final Inspection**:\n",
    "    - Ensuring the processed data meets the initial objectives.\n",
    "    - Storing the preprocessed data in a suitable format.\n",
    "\n",
    "---\n",
    "\n",
    "\n",
    "\n",
    "## Notes\n",
    "- All changes will be documented and justified.\n",
    "- Assumptions made during preprocessing will be clearly stated.\n",
    "- Intermediary results will be visualized and inspected for validation.\n",
    "\n",
    "---\n",
    "\n",
    "## Conclusion\n",
    "This section will summarize the preprocessing steps performed and discuss the readiness of the data for subsequent analysis.\n",
    "\n",
    "---\n",
    "\n",
    "## Change Log\n",
    "- **Version 1.0** [Date]: Initial version of the notebook.\n"
   ]
  }
 ],
 "metadata": {
  "kernelspec": {
   "display_name": "Python 3 (ipykernel)",
   "language": "python",
   "name": "python3"
  },
  "language_info": {
   "codemirror_mode": {
    "name": "ipython",
    "version": 3
   },
   "file_extension": ".py",
   "mimetype": "text/x-python",
   "name": "python",
   "nbconvert_exporter": "python",
   "pygments_lexer": "ipython3",
   "version": "3.9.4"
  }
 },
 "nbformat": 4,
 "nbformat_minor": 2
}
